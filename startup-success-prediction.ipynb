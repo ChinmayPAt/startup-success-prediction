{
 "cells": [
  {
   "cell_type": "code",
   "execution_count": 143,
   "metadata": {},
   "outputs": [
    {
     "data": {
      "text/html": [
       "<div>\n",
       "<style scoped>\n",
       "    .dataframe tbody tr th:only-of-type {\n",
       "        vertical-align: middle;\n",
       "    }\n",
       "\n",
       "    .dataframe tbody tr th {\n",
       "        vertical-align: top;\n",
       "    }\n",
       "\n",
       "    .dataframe thead th {\n",
       "        text-align: right;\n",
       "    }\n",
       "</style>\n",
       "<table border=\"1\" class=\"dataframe\">\n",
       "  <thead>\n",
       "    <tr style=\"text-align: right;\">\n",
       "      <th></th>\n",
       "      <th>Unnamed: 0</th>\n",
       "      <th>state_code</th>\n",
       "      <th>latitude</th>\n",
       "      <th>longitude</th>\n",
       "      <th>zip_code</th>\n",
       "      <th>id</th>\n",
       "      <th>city</th>\n",
       "      <th>Unnamed: 6</th>\n",
       "      <th>name</th>\n",
       "      <th>labels</th>\n",
       "      <th>...</th>\n",
       "      <th>object_id</th>\n",
       "      <th>has_VC</th>\n",
       "      <th>has_angel</th>\n",
       "      <th>has_roundA</th>\n",
       "      <th>has_roundB</th>\n",
       "      <th>has_roundC</th>\n",
       "      <th>has_roundD</th>\n",
       "      <th>avg_participants</th>\n",
       "      <th>is_top500</th>\n",
       "      <th>status</th>\n",
       "    </tr>\n",
       "  </thead>\n",
       "  <tbody>\n",
       "    <tr>\n",
       "      <th>0</th>\n",
       "      <td>1005</td>\n",
       "      <td>CA</td>\n",
       "      <td>42.358880</td>\n",
       "      <td>-71.056820</td>\n",
       "      <td>92101</td>\n",
       "      <td>c:6669</td>\n",
       "      <td>San Diego</td>\n",
       "      <td>NaN</td>\n",
       "      <td>Bandsintown</td>\n",
       "      <td>1</td>\n",
       "      <td>...</td>\n",
       "      <td>c:6669</td>\n",
       "      <td>0</td>\n",
       "      <td>1</td>\n",
       "      <td>0</td>\n",
       "      <td>0</td>\n",
       "      <td>0</td>\n",
       "      <td>0</td>\n",
       "      <td>1.0000</td>\n",
       "      <td>0</td>\n",
       "      <td>1</td>\n",
       "    </tr>\n",
       "    <tr>\n",
       "      <th>1</th>\n",
       "      <td>204</td>\n",
       "      <td>CA</td>\n",
       "      <td>37.238916</td>\n",
       "      <td>-121.973718</td>\n",
       "      <td>95032</td>\n",
       "      <td>c:16283</td>\n",
       "      <td>Los Gatos</td>\n",
       "      <td>NaN</td>\n",
       "      <td>TriCipher</td>\n",
       "      <td>1</td>\n",
       "      <td>...</td>\n",
       "      <td>c:16283</td>\n",
       "      <td>1</td>\n",
       "      <td>0</td>\n",
       "      <td>0</td>\n",
       "      <td>1</td>\n",
       "      <td>1</td>\n",
       "      <td>1</td>\n",
       "      <td>4.7500</td>\n",
       "      <td>1</td>\n",
       "      <td>1</td>\n",
       "    </tr>\n",
       "    <tr>\n",
       "      <th>2</th>\n",
       "      <td>1001</td>\n",
       "      <td>CA</td>\n",
       "      <td>32.901049</td>\n",
       "      <td>-117.192656</td>\n",
       "      <td>92121</td>\n",
       "      <td>c:65620</td>\n",
       "      <td>San Diego</td>\n",
       "      <td>San Diego CA 92121</td>\n",
       "      <td>Plixi</td>\n",
       "      <td>1</td>\n",
       "      <td>...</td>\n",
       "      <td>c:65620</td>\n",
       "      <td>0</td>\n",
       "      <td>0</td>\n",
       "      <td>1</td>\n",
       "      <td>0</td>\n",
       "      <td>0</td>\n",
       "      <td>0</td>\n",
       "      <td>4.0000</td>\n",
       "      <td>1</td>\n",
       "      <td>1</td>\n",
       "    </tr>\n",
       "    <tr>\n",
       "      <th>3</th>\n",
       "      <td>738</td>\n",
       "      <td>CA</td>\n",
       "      <td>37.320309</td>\n",
       "      <td>-122.050040</td>\n",
       "      <td>95014</td>\n",
       "      <td>c:42668</td>\n",
       "      <td>Cupertino</td>\n",
       "      <td>Cupertino CA 95014</td>\n",
       "      <td>Solidcore Systems</td>\n",
       "      <td>1</td>\n",
       "      <td>...</td>\n",
       "      <td>c:42668</td>\n",
       "      <td>0</td>\n",
       "      <td>0</td>\n",
       "      <td>0</td>\n",
       "      <td>1</td>\n",
       "      <td>1</td>\n",
       "      <td>1</td>\n",
       "      <td>3.3333</td>\n",
       "      <td>1</td>\n",
       "      <td>1</td>\n",
       "    </tr>\n",
       "    <tr>\n",
       "      <th>4</th>\n",
       "      <td>1002</td>\n",
       "      <td>CA</td>\n",
       "      <td>37.779281</td>\n",
       "      <td>-122.419236</td>\n",
       "      <td>94105</td>\n",
       "      <td>c:65806</td>\n",
       "      <td>San Francisco</td>\n",
       "      <td>San Francisco CA 94105</td>\n",
       "      <td>Inhale Digital</td>\n",
       "      <td>0</td>\n",
       "      <td>...</td>\n",
       "      <td>c:65806</td>\n",
       "      <td>1</td>\n",
       "      <td>1</td>\n",
       "      <td>0</td>\n",
       "      <td>0</td>\n",
       "      <td>0</td>\n",
       "      <td>0</td>\n",
       "      <td>1.0000</td>\n",
       "      <td>1</td>\n",
       "      <td>0</td>\n",
       "    </tr>\n",
       "    <tr>\n",
       "      <th>5</th>\n",
       "      <td>379</td>\n",
       "      <td>CA</td>\n",
       "      <td>37.406914</td>\n",
       "      <td>-122.090370</td>\n",
       "      <td>94043</td>\n",
       "      <td>c:22898</td>\n",
       "      <td>Mountain View</td>\n",
       "      <td>Mountain View CA 94043</td>\n",
       "      <td>Matisse Networks</td>\n",
       "      <td>0</td>\n",
       "      <td>...</td>\n",
       "      <td>c:22898</td>\n",
       "      <td>0</td>\n",
       "      <td>0</td>\n",
       "      <td>0</td>\n",
       "      <td>1</td>\n",
       "      <td>0</td>\n",
       "      <td>0</td>\n",
       "      <td>3.0000</td>\n",
       "      <td>1</td>\n",
       "      <td>0</td>\n",
       "    </tr>\n",
       "    <tr>\n",
       "      <th>6</th>\n",
       "      <td>195</td>\n",
       "      <td>CA</td>\n",
       "      <td>37.391559</td>\n",
       "      <td>-122.070264</td>\n",
       "      <td>94041</td>\n",
       "      <td>c:16191</td>\n",
       "      <td>Mountain View</td>\n",
       "      <td>NaN</td>\n",
       "      <td>RingCube Technologies</td>\n",
       "      <td>1</td>\n",
       "      <td>...</td>\n",
       "      <td>c:16191</td>\n",
       "      <td>1</td>\n",
       "      <td>0</td>\n",
       "      <td>1</td>\n",
       "      <td>1</td>\n",
       "      <td>0</td>\n",
       "      <td>0</td>\n",
       "      <td>1.6667</td>\n",
       "      <td>1</td>\n",
       "      <td>1</td>\n",
       "    </tr>\n",
       "    <tr>\n",
       "      <th>7</th>\n",
       "      <td>875</td>\n",
       "      <td>CA</td>\n",
       "      <td>38.057107</td>\n",
       "      <td>-122.513742</td>\n",
       "      <td>94901</td>\n",
       "      <td>c:5192</td>\n",
       "      <td>San Rafael</td>\n",
       "      <td>NaN</td>\n",
       "      <td>ClairMail</td>\n",
       "      <td>1</td>\n",
       "      <td>...</td>\n",
       "      <td>c:5192</td>\n",
       "      <td>0</td>\n",
       "      <td>0</td>\n",
       "      <td>1</td>\n",
       "      <td>1</td>\n",
       "      <td>0</td>\n",
       "      <td>1</td>\n",
       "      <td>3.5000</td>\n",
       "      <td>1</td>\n",
       "      <td>1</td>\n",
       "    </tr>\n",
       "    <tr>\n",
       "      <th>8</th>\n",
       "      <td>16</td>\n",
       "      <td>MA</td>\n",
       "      <td>42.712207</td>\n",
       "      <td>-73.203599</td>\n",
       "      <td>1267</td>\n",
       "      <td>c:1043</td>\n",
       "      <td>Williamstown</td>\n",
       "      <td>Williamstown MA 1267</td>\n",
       "      <td>VoodooVox</td>\n",
       "      <td>1</td>\n",
       "      <td>...</td>\n",
       "      <td>c:1043</td>\n",
       "      <td>1</td>\n",
       "      <td>0</td>\n",
       "      <td>1</td>\n",
       "      <td>0</td>\n",
       "      <td>0</td>\n",
       "      <td>1</td>\n",
       "      <td>4.0000</td>\n",
       "      <td>1</td>\n",
       "      <td>1</td>\n",
       "    </tr>\n",
       "    <tr>\n",
       "      <th>9</th>\n",
       "      <td>846</td>\n",
       "      <td>CA</td>\n",
       "      <td>37.427235</td>\n",
       "      <td>-122.145783</td>\n",
       "      <td>94306</td>\n",
       "      <td>c:498</td>\n",
       "      <td>Palo Alto</td>\n",
       "      <td>NaN</td>\n",
       "      <td>Doostang</td>\n",
       "      <td>1</td>\n",
       "      <td>...</td>\n",
       "      <td>c:498</td>\n",
       "      <td>1</td>\n",
       "      <td>1</td>\n",
       "      <td>1</td>\n",
       "      <td>0</td>\n",
       "      <td>0</td>\n",
       "      <td>0</td>\n",
       "      <td>1.0000</td>\n",
       "      <td>1</td>\n",
       "      <td>1</td>\n",
       "    </tr>\n",
       "  </tbody>\n",
       "</table>\n",
       "<p>10 rows × 49 columns</p>\n",
       "</div>"
      ],
      "text/plain": [
       "   Unnamed: 0 state_code   latitude   longitude zip_code       id  \\\n",
       "0        1005         CA  42.358880  -71.056820    92101   c:6669   \n",
       "1         204         CA  37.238916 -121.973718    95032  c:16283   \n",
       "2        1001         CA  32.901049 -117.192656    92121  c:65620   \n",
       "3         738         CA  37.320309 -122.050040    95014  c:42668   \n",
       "4        1002         CA  37.779281 -122.419236    94105  c:65806   \n",
       "5         379         CA  37.406914 -122.090370    94043  c:22898   \n",
       "6         195         CA  37.391559 -122.070264    94041  c:16191   \n",
       "7         875         CA  38.057107 -122.513742    94901   c:5192   \n",
       "8          16         MA  42.712207  -73.203599     1267   c:1043   \n",
       "9         846         CA  37.427235 -122.145783    94306    c:498   \n",
       "\n",
       "            city              Unnamed: 6                   name  labels  ...  \\\n",
       "0      San Diego                     NaN            Bandsintown       1  ...   \n",
       "1      Los Gatos                     NaN              TriCipher       1  ...   \n",
       "2      San Diego      San Diego CA 92121                  Plixi       1  ...   \n",
       "3      Cupertino      Cupertino CA 95014      Solidcore Systems       1  ...   \n",
       "4  San Francisco  San Francisco CA 94105         Inhale Digital       0  ...   \n",
       "5  Mountain View  Mountain View CA 94043       Matisse Networks       0  ...   \n",
       "6  Mountain View                     NaN  RingCube Technologies       1  ...   \n",
       "7     San Rafael                     NaN              ClairMail       1  ...   \n",
       "8   Williamstown    Williamstown MA 1267              VoodooVox       1  ...   \n",
       "9      Palo Alto                     NaN               Doostang       1  ...   \n",
       "\n",
       "  object_id has_VC has_angel has_roundA  has_roundB  has_roundC  has_roundD  \\\n",
       "0    c:6669      0         1          0           0           0           0   \n",
       "1   c:16283      1         0          0           1           1           1   \n",
       "2   c:65620      0         0          1           0           0           0   \n",
       "3   c:42668      0         0          0           1           1           1   \n",
       "4   c:65806      1         1          0           0           0           0   \n",
       "5   c:22898      0         0          0           1           0           0   \n",
       "6   c:16191      1         0          1           1           0           0   \n",
       "7    c:5192      0         0          1           1           0           1   \n",
       "8    c:1043      1         0          1           0           0           1   \n",
       "9     c:498      1         1          1           0           0           0   \n",
       "\n",
       "   avg_participants  is_top500  status  \n",
       "0            1.0000          0       1  \n",
       "1            4.7500          1       1  \n",
       "2            4.0000          1       1  \n",
       "3            3.3333          1       1  \n",
       "4            1.0000          1       0  \n",
       "5            3.0000          1       0  \n",
       "6            1.6667          1       1  \n",
       "7            3.5000          1       1  \n",
       "8            4.0000          1       1  \n",
       "9            1.0000          1       1  \n",
       "\n",
       "[10 rows x 49 columns]"
      ]
     },
     "execution_count": 143,
     "metadata": {},
     "output_type": "execute_result"
    }
   ],
   "source": [
    "import pandas as pd\n",
    "import numpy as np\n",
    "import matplotlib.pyplot as plt\n",
    "import seaborn as sns\n",
    "from sklearn.model_selection import train_test_split\n",
    "from sklearn.metrics import confusion_matrix, accuracy_score\n",
    "from sklearn import preprocessing\n",
    "from sklearn.linear_model import LogisticRegression\n",
    "import warnings\n",
    "warnings.filterwarnings(\"ignore\")\n",
    "\n",
    "# Reading csv and converted values in status column : acquired = 1 and else = 0\n",
    "df = pd.read_csv('data.csv', converters={\n",
    "                 'status': lambda x: int(x == 'acquired')})\n",
    "df.head(n=10)\n"
   ]
  },
  {
   "cell_type": "code",
   "execution_count": 144,
   "metadata": {},
   "outputs": [
    {
     "data": {
      "text/html": [
       "<style  type=\"text/css\" >\n",
       "#T_59a37_row0_col0,#T_59a37_row0_col1{\n",
       "            background-color:  #7ad151;\n",
       "            color:  #000000;\n",
       "        }#T_59a37_row1_col0,#T_59a37_row1_col1{\n",
       "            background-color:  #cde11d;\n",
       "            color:  #000000;\n",
       "        }#T_59a37_row2_col0,#T_59a37_row2_col1,#T_59a37_row3_col0,#T_59a37_row3_col1{\n",
       "            background-color:  #2e6d8e;\n",
       "            color:  #f1f1f1;\n",
       "        }#T_59a37_row4_col0,#T_59a37_row4_col1{\n",
       "            background-color:  #453581;\n",
       "            color:  #f1f1f1;\n",
       "        }</style><table id=\"T_59a37_\" ><thead>    <tr>        <th class=\"blank level0\" ></th>        <th class=\"col_heading level0 col0\" >Null Values</th>        <th class=\"col_heading level0 col1\" >% Missing Values</th>    </tr></thead><tbody>\n",
       "                <tr>\n",
       "                        <th id=\"T_59a37_level0_row0\" class=\"row_heading level0 row0\" >Unnamed: 6</th>\n",
       "                        <td id=\"T_59a37_row0_col0\" class=\"data row0 col0\" >493</td>\n",
       "                        <td id=\"T_59a37_row0_col1\" class=\"data row0 col1\" >53.412784</td>\n",
       "            </tr>\n",
       "            <tr>\n",
       "                        <th id=\"T_59a37_level0_row1\" class=\"row_heading level0 row1\" >closed_at</th>\n",
       "                        <td id=\"T_59a37_row1_col0\" class=\"data row1 col0\" >588</td>\n",
       "                        <td id=\"T_59a37_row1_col1\" class=\"data row1 col1\" >63.705309</td>\n",
       "            </tr>\n",
       "            <tr>\n",
       "                        <th id=\"T_59a37_level0_row2\" class=\"row_heading level0 row2\" >age_first_milestone_year</th>\n",
       "                        <td id=\"T_59a37_row2_col0\" class=\"data row2 col0\" >152</td>\n",
       "                        <td id=\"T_59a37_row2_col1\" class=\"data row2 col1\" >16.468039</td>\n",
       "            </tr>\n",
       "            <tr>\n",
       "                        <th id=\"T_59a37_level0_row3\" class=\"row_heading level0 row3\" >age_last_milestone_year</th>\n",
       "                        <td id=\"T_59a37_row3_col0\" class=\"data row3 col0\" >152</td>\n",
       "                        <td id=\"T_59a37_row3_col1\" class=\"data row3 col1\" >16.468039</td>\n",
       "            </tr>\n",
       "            <tr>\n",
       "                        <th id=\"T_59a37_level0_row4\" class=\"row_heading level0 row4\" >state_code.1</th>\n",
       "                        <td id=\"T_59a37_row4_col0\" class=\"data row4 col0\" >1</td>\n",
       "                        <td id=\"T_59a37_row4_col1\" class=\"data row4 col1\" >0.108342</td>\n",
       "            </tr>\n",
       "    </tbody></table>"
      ],
      "text/plain": [
       "<pandas.io.formats.style.Styler at 0x26346f46a90>"
      ]
     },
     "execution_count": 144,
     "metadata": {},
     "output_type": "execute_result"
    }
   ],
   "source": [
    "# how many null values are present\n",
    "null=pd.DataFrame(df.isnull().sum(),columns=[\"Null Values\"])\n",
    "null[\"% Missing Values\"]=(df.isna().sum()/len(df)*100)\n",
    "null = null[null[\"% Missing Values\"] > 0]\n",
    "null.style.background_gradient(cmap='viridis',low =0.2,high=0.1) "
   ]
  },
  {
   "cell_type": "code",
   "execution_count": 145,
   "metadata": {},
   "outputs": [],
   "source": [
    "df['closed_at'] = df['closed_at'].fillna(value=\"31/12/2013\")"
   ]
  },
  {
   "cell_type": "code",
   "execution_count": 146,
   "metadata": {},
   "outputs": [
    {
     "name": "stdout",
     "output_type": "stream",
     "text": [
      "Negative value in 'age_first_funding_year' column  : True \n",
      "Negative value in 'age_last_funding_year' column  : True \n",
      "Negative value in 'age_first_milestone_year' column  : True \n",
      "Negative value in 'age_last_milestone_year' column  : True \n"
     ]
    }
   ],
   "source": [
    "# checked negative  values\n",
    "age=[\"age_first_funding_year\",\"age_last_funding_year\",\"age_first_milestone_year\",\"age_last_milestone_year\"]\n",
    "\n",
    "for a in range(len(age)):\n",
    "    print(\"Negative value in '{}' column  : {} \".format(age[a],(df[age[a]]<0).any()))\n"
   ]
  },
  {
   "cell_type": "code",
   "execution_count": 147,
   "metadata": {},
   "outputs": [
    {
     "data": {
      "image/png": "[encoded data removed]",
      "text/plain": [
       "<Figure size 1080x504 with 5 Axes>"
      ]
     },
     "metadata": {
      "needs_background": "light"
     },
     "output_type": "display_data"
    }
   ],
   "source": [
    "# dropped negative values\n",
    "df=df.drop(df[df.age_first_funding_year<0].index)\n",
    "df=df.drop(df[df.age_last_funding_year<0].index)\n",
    "df=df.drop(df[df.age_first_milestone_year<0].index)\n",
    "df=df.drop(df[df.age_last_milestone_year<0].index)\n",
    "\n",
    "df[\"age_first_funding_year\"] = np.log1p(df[\"age_first_funding_year\"])\n",
    "df[\"age_last_funding_year\"] = np.log1p(df[\"age_last_funding_year\"])\n",
    "df[\"age_first_milestone_year\"] = np.log1p(df[\"age_first_milestone_year\"])\n",
    "df[\"age_last_milestone_year\"] = np.log1p(df[\"age_last_milestone_year\"])\n",
    "df[\"funding_total_usd\"] = np.log1p(df[\"funding_total_usd\"])\n",
    "\n",
    "\n",
    "# checking for outliers\n",
    "featuresNumfinal = ['age_first_funding_year','age_last_funding_year','age_first_milestone_year','age_last_milestone_year','funding_total_usd']\n",
    "\n",
    "plt.figure(figsize=(15, 7))\n",
    "for i in range(0, len(featuresNumfinal)):\n",
    "    plt.subplot(1, len(featuresNumfinal), i+1)\n",
    "    sns.boxplot(y=df[featuresNumfinal[i]], color='green', orient='v')\n",
    "    plt.tight_layout()\n"
   ]
  },
  {
   "cell_type": "code",
   "execution_count": 148,
   "metadata": {},
   "outputs": [
    {
     "name": "stdout",
     "output_type": "stream",
     "text": [
      "<bound method NDFrame.head of 0       7.002740\n",
      "1      14.008219\n",
      "2       4.791781\n",
      "3      12.005479\n",
      "4       2.169863\n",
      "         ...    \n",
      "918     5.000000\n",
      "919    10.487671\n",
      "920    13.468493\n",
      "921     5.000000\n",
      "922    11.005479\n",
      "Name: age_startup_year, Length: 840, dtype: float64>\n"
     ]
    }
   ],
   "source": [
    "# combined round columns into one\n",
    "df['has_RoundABCD'] = np.where((df['has_roundA'] == 1) | (df['has_roundB'] == 1) | (df['has_roundC'] == 1) | (df['has_roundD'] == 1), 1, 0)\n",
    "\n",
    "# combined vc and angel columns into one\n",
    "df['has_Investor'] = np.where((df['has_VC'] == 1) | (df['has_angel'] == 1), 1, 0)\n",
    "\n",
    "# combined new columns into one\n",
    "df['has_Seed'] = np.where((df['has_RoundABCD'] == 0) & (df['has_Investor'] == 1), 1, 0)\n",
    "\n",
    "# created to combine startups with no funding rounds, vc and angel\n",
    "df['invalid_startup'] = np.where((df['has_RoundABCD'] == 0) & (df['has_VC'] == 0) & (df['has_angel'] == 0), 1, 0)\n",
    "\n",
    "# column to get age of startup\n",
    "df.founded_at=pd.to_datetime(df.founded_at)\n",
    "df.closed_at=pd.to_datetime(df.closed_at)\n",
    "df['age_closed_startup'] = df.apply(lambda row: (row.closed_at - row.founded_at) , axis=1)\n",
    "\n",
    "df['age_startup_year'] = df['age_closed_startup'].dt.days /365\n",
    "print(df['age_startup_year'].head)\n"
   ]
  },
  {
   "cell_type": "code",
   "execution_count": 149,
   "metadata": {},
   "outputs": [
    {
     "data": {
      "text/plain": [
       "<matplotlib.legend.Legend at 0x26346ccb070>"
      ]
     },
     "execution_count": 149,
     "metadata": {},
     "output_type": "execute_result"
    },
    {
     "data": {
      "image/png": "[encoded data removed]",
      "text/plain": [
       "<Figure size 864x576 with 1 Axes>"
      ]
     },
     "metadata": {
      "needs_background": "light"
     },
     "output_type": "display_data"
    }
   ],
   "source": [
    "# plotted a distribution of relationships\n",
    "\n",
    "fig, ax = plt.subplots(figsize=(12,8))\n",
    "\n",
    "plot = sns.countplot(x=\"relationships\", hue=\"status\", data=df, palette=\"nipy_spectral\",\n",
    "              order=df.relationships.value_counts().index)\n",
    "\n",
    "plot = ax.set_xticklabels(ax.get_xticklabels(), rotation=90)\n",
    "plot = ax.set(xlabel=\"relationships\", ylabel=\"No. of startup\")\n",
    "plt.legend(bbox_to_anchor=(0.945, 0.90))"
   ]
  },
  {
   "cell_type": "code",
   "execution_count": 150,
   "metadata": {},
   "outputs": [
    {
     "data": {
      "text/plain": [
       "<matplotlib.legend.Legend at 0x26346d6e250>"
      ]
     },
     "execution_count": 150,
     "metadata": {},
     "output_type": "execute_result"
    },
    {
     "data": {
      "image/png": "[encoded data removed]",
      "text/plain": [
       "<Figure size 864x576 with 1 Axes>"
      ]
     },
     "metadata": {
      "needs_background": "light"
     },
     "output_type": "display_data"
    }
   ],
   "source": [
    "# created a list of our conditions\n",
    "conditions = [\n",
    "    (df['relationships'] <= 5),\n",
    "    (df['relationships'] > 5) & (df['relationships'] <= 10),\n",
    "    (df['relationships'] > 10) & (df['relationships'] <= 16),\n",
    "    (df['relationships'] > 16)\n",
    "    ]\n",
    "\n",
    "# created a list of the values we want to assign for each condition\n",
    "values = ['4', '3', '2', '1']\n",
    "\n",
    "# created a new column and use np.select to assign values to it using our lists as arguments\n",
    "df['tier_relationships'] = np.select(conditions, values)\n",
    "\n",
    "fig, ax = plt.subplots(figsize=(12,8))\n",
    "\n",
    "plot = sns.countplot(x=\"tier_relationships\", hue=\"status\", data=df, palette=\"nipy_spectral\",\n",
    "              order=df.tier_relationships.value_counts().index)\n",
    "\n",
    "plot = ax.set_xticklabels(ax.get_xticklabels(), rotation=90)\n",
    "plot = ax.set(xlabel=\"tier_relationships\", ylabel=\"No. of startup\")\n",
    "plt.legend(bbox_to_anchor=(0.945, 0.90))"
   ]
  },
  {
   "cell_type": "code",
   "execution_count": 151,
   "metadata": {},
   "outputs": [],
   "source": [
    "df['tier_relationships'] = df.tier_relationships.astype(int)\n",
    "\n",
    "# dropped columns\n",
    "df = df.drop(['relationships','Unnamed: 0','Unnamed: 6', 'name', 'founded_at', 'closed_at', 'first_funding_at', 'last_funding_at', 'id', 'object_id', 'labels', 'latitude', 'longitude', 'zip_code', 'city', 'state_code','category_code', 'age_closed_startup', 'state_code.1'], axis=1)\n",
    "\n",
    "# replaced NA/null values\n",
    "df['age_first_milestone_year'] = df['age_first_milestone_year'].fillna(value=0)\n",
    "df['age_last_milestone_year'] = df['age_last_milestone_year'].fillna(value=0)"
   ]
  },
  {
   "cell_type": "code",
   "execution_count": 152,
   "metadata": {},
   "outputs": [
    {
     "name": "stdout",
     "output_type": "stream",
     "text": [
      "(672, 36)\n"
     ]
    }
   ],
   "source": [
    "# extracted feature columns and target column\n",
    "features = df.loc[:, df.columns != 'status']\n",
    "target = df.loc[:, 'status']\n",
    "\n",
    "# split the dataset into test and train  train:test=80:20\n",
    "X_train, X_test, y_train, y_test  = train_test_split(features, target, train_size=0.8, random_state=42)\n",
    "\n",
    "# print confusion matrix and calculate accuracy rate\n",
    "def print_performance(pred,actual):\n",
    "    actual_array = np.array(actual)\n",
    "    unique_label = np.unique([actual, pred])\n",
    "    cf = pd.DataFrame(\n",
    "        confusion_matrix(actual_array, pred, labels=unique_label), \n",
    "        index=['Actual:{:}'.format(x) for x in unique_label], \n",
    "        columns=['Pred:{:}'.format(x) for x in unique_label]\n",
    "    )\n",
    "    sns.heatmap(cf, annot = True, cmap = 'YlGnBu', fmt = '.8g')\n",
    "    plt.show()\n",
    "    print(cf)\n",
    "    print('Percent Acquired correctly predicted: ', cf['Pred:1'][1]/(cf['Pred:0'][1] +cf['Pred:1'][1])*100)\n",
    "    print('Percent Not Acquired correctly predicted: ', cf['Pred:0'][0]/(cf['Pred:0'][0] +cf['Pred:1'][0])*100)"
   ]
  },
  {
   "cell_type": "code",
   "execution_count": 153,
   "metadata": {},
   "outputs": [
    {
     "data": {
      "image/png": "[encoded data removed]",
      "text/plain": [
       "<Figure size 432x288 with 2 Axes>"
      ]
     },
     "metadata": {
      "needs_background": "light"
     },
     "output_type": "display_data"
    },
    {
     "name": "stdout",
     "output_type": "stream",
     "text": [
      "          Pred:0  Pred:1\n",
      "Actual:0      32      17\n",
      "Actual:1      13     106\n",
      "Percent Acquired correctly predicted:  89.07563025210085\n",
      "Percent Not Acquired correctly predicted:  65.3061224489796\n",
      "Accuracy of the test set:  0.8214285714285714\n"
     ]
    }
   ],
   "source": [
    "# Logistic Regression\n",
    "logistic_clf = LogisticRegression(solver='liblinear', penalty='l1')\n",
    "logistic_clf.fit(X_train, y_train)\n",
    "y_pred = logistic_clf.predict(X_test)\n",
    "print_performance(y_pred, y_test)\n",
    "print(\"Accuracy of the test set: \", accuracy_score(y_test, y_pred))"
   ]
  },
  {
   "cell_type": "code",
   "execution_count": 154,
   "metadata": {},
   "outputs": [
    {
     "data": {
      "image/png": "[encoded data removed]",
      "text/plain": [
       "<Figure size 432x288 with 2 Axes>"
      ]
     },
     "metadata": {
      "needs_background": "light"
     },
     "output_type": "display_data"
    },
    {
     "name": "stdout",
     "output_type": "stream",
     "text": [
      "          Pred:0  Pred:1\n",
      "Actual:0      28      21\n",
      "Actual:1       9     110\n",
      "Percent Acquired correctly predicted:  92.43697478991596\n",
      "Percent Not Acquired correctly predicted:  57.14285714285714\n",
      "Accuracy of the test set:  0.8214285714285714\n"
     ]
    }
   ],
   "source": [
    "from sklearn.neighbors import KNeighborsClassifier\n",
    "\n",
    "knn_clf = KNeighborsClassifier(n_neighbors=5)\n",
    "knn_clf.fit(X_train, y_train)\n",
    "y_test_pred_knn = knn_clf.predict(X_test)\n",
    "print_performance(y_test_pred_knn, y_test)\n",
    "print(\"Accuracy of the test set: \", accuracy_score(y_test, y_test_pred_knn))"
   ]
  },
  {
   "cell_type": "code",
   "execution_count": 155,
   "metadata": {},
   "outputs": [
    {
     "data": {
      "image/png": "[encoded data removed]",
      "text/plain": [
       "<Figure size 432x288 with 2 Axes>"
      ]
     },
     "metadata": {
      "needs_background": "light"
     },
     "output_type": "display_data"
    },
    {
     "name": "stdout",
     "output_type": "stream",
     "text": [
      "          Pred:0  Pred:1\n",
      "Actual:0      28      21\n",
      "Actual:1       4     115\n",
      "Percent Acquired correctly predicted:  96.63865546218487\n",
      "Percent Not Acquired correctly predicted:  57.14285714285714\n",
      "Accuracy of the test set:  0.8511904761904762\n"
     ]
    }
   ],
   "source": [
    "from sklearn.ensemble import RandomForestClassifier\n",
    "\n",
    "forest = RandomForestClassifier(n_estimators=22, max_depth=7, criterion=\"gini\")\n",
    "forest.fit(X_train, y_train)\n",
    "y_test_pred_forest = forest.predict(X_test)\n",
    "print_performance(y_test_pred_forest, y_test)\n",
    "print(\"Accuracy of the test set: \", accuracy_score(y_test, y_test_pred_forest))  "
   ]
  },
  {
   "cell_type": "code",
   "execution_count": 156,
   "metadata": {},
   "outputs": [
    {
     "data": {
      "image/png": "[encoded data removed]",
      "text/plain": [
       "<Figure size 432x288 with 2 Axes>"
      ]
     },
     "metadata": {
      "needs_background": "light"
     },
     "output_type": "display_data"
    },
    {
     "name": "stdout",
     "output_type": "stream",
     "text": [
      "          Pred:0  Pred:1\n",
      "Actual:0      34      15\n",
      "Actual:1       7     112\n",
      "Percent Acquired correctly predicted:  94.11764705882352\n",
      "Percent Not Acquired correctly predicted:  69.38775510204081\n",
      "Accuracy of the test set:  0.8690476190476191\n"
     ]
    }
   ],
   "source": [
    "from sklearn.ensemble import AdaBoostClassifier\n",
    "\n",
    "ab = AdaBoostClassifier(random_state=42)\n",
    "ab.fit(X_train, y_train)\n",
    "y_pred_ada = ab.predict(X_test)\n",
    "print_performance(y_pred_ada, y_test)\n",
    "print(\"Accuracy of the test set: \", accuracy_score(y_test, y_pred_ada))"
   ]
  },
  {
   "cell_type": "code",
   "execution_count": 157,
   "metadata": {},
   "outputs": [
    {
     "data": {
      "image/png": "[encoded data removed]",
      "text/plain": [
       "<Figure size 432x288 with 2 Axes>"
      ]
     },
     "metadata": {
      "needs_background": "light"
     },
     "output_type": "display_data"
    },
    {
     "name": "stdout",
     "output_type": "stream",
     "text": [
      "          Pred:0  Pred:1\n",
      "Actual:0      34      15\n",
      "Actual:1       7     112\n",
      "Percent Acquired correctly predicted:  94.11764705882352\n",
      "Percent Not Acquired correctly predicted:  69.38775510204081\n",
      "Accuracy of the test set:  0.8690476190476191\n"
     ]
    }
   ],
   "source": [
    "from sklearn.ensemble import GradientBoostingClassifier\n",
    "\n",
    "gbc = GradientBoostingClassifier(learning_rate=0.02, max_depth=4, random_state=100, n_estimators=1000)\n",
    "gbc.fit(X_train,y_train)\n",
    "y_pred_gbc = ab.predict(X_test)\n",
    "print_performance(y_pred_gbc, y_test)\n",
    "print(\"Accuracy of the test set: \", accuracy_score(y_test, y_pred_gbc))"
   ]
  }
 ],
 "metadata": {
  "interpreter": {
   "hash": "46d34921e64f01ff41b59f412b9a42cbab1dfbc056dcd2da9660c2312fa8df2d"
  },
  "kernelspec": {
   "display_name": "Python 3.8.8 64-bit ('base': conda)",
   "language": "python",
   "name": "python3"
  },
  "language_info": {
   "codemirror_mode": {
    "name": "ipython",
    "version": 3
   },
   "file_extension": ".py",
   "mimetype": "text/x-python",
   "name": "python",
   "nbconvert_exporter": "python",
   "pygments_lexer": "ipython3",
   "version": "3.8.8"
  },
  "orig_nbformat": 4
 },
 "nbformat": 4,
 "nbformat_minor": 2
}
